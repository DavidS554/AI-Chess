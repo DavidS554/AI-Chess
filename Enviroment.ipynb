{
 "cells": [
  {
   "cell_type": "code",
   "execution_count": 3,
   "metadata": {},
   "outputs": [
    {
     "name": "stdout",
     "output_type": "stream",
     "text": [
      "♜ ♞ ♝ ♛ ♚ ♝ ♞ ♜\n",
      "♟ ♟ ♟ ♟ ♟ ♟ ♟ ♟\n",
      "⭘ ⭘ ⭘ ⭘ ⭘ ⭘ ⭘ ⭘\n",
      "⭘ ⭘ ⭘ ⭘ ⭘ ⭘ ⭘ ⭘\n",
      "⭘ ⭘ ⭘ ⭘ ⭘ ⭘ ⭘ ⭘\n",
      "⭘ ⭘ ⭘ ⭘ ⭘ ⭘ ⭘ ⭘\n",
      "♙ ♙ ♙ ♙ ♙ ♙ ♙ ♙\n",
      "♖ ♘ ♗ ♕ ♔ ♗ ♘ ♖\n"
     ]
    },
    {
     "ename": "AttributeError",
     "evalue": "'NoneType' object has no attribute 'sample'",
     "output_type": "error",
     "traceback": [
      "\u001b[0;31m---------------------------------------------------------------------------\u001b[0m",
      "\u001b[0;31mAttributeError\u001b[0m                            Traceback (most recent call last)",
      "Cell \u001b[0;32mIn[3], line 14\u001b[0m\n\u001b[1;32m     11\u001b[0m \u001b[38;5;28mprint\u001b[39m(env\u001b[38;5;241m.\u001b[39mrender())\n\u001b[1;32m     13\u001b[0m \u001b[38;5;66;03m# Sample a random action (move) from the list of legal moves\u001b[39;00m\n\u001b[0;32m---> 14\u001b[0m action \u001b[38;5;241m=\u001b[39m \u001b[43menv\u001b[49m\u001b[38;5;241;43m.\u001b[39;49m\u001b[43maction_space\u001b[49m\u001b[38;5;241;43m.\u001b[39;49m\u001b[43msample\u001b[49m()\n\u001b[1;32m     16\u001b[0m \u001b[38;5;66;03m# Take that action in the environment and receive feedback\u001b[39;00m\n\u001b[1;32m     17\u001b[0m next_state, reward, done, info \u001b[38;5;241m=\u001b[39m env\u001b[38;5;241m.\u001b[39mstep(action)\n",
      "\u001b[0;31mAttributeError\u001b[0m: 'NoneType' object has no attribute 'sample'"
     ]
    }
   ],
   "source": [
    "import gym\n",
    "import gym_chess\n",
    "\n",
    "# Create the chess environment\n",
    "env = gym.make('Chess-v0')\n",
    "\n",
    "# Reset the environment (initialize the board)\n",
    "state = env.reset()\n",
    "\n",
    "# Display the initial board state\n",
    "print(env.render())\n",
    "\n",
    "# Sample a random action (move) from the list of legal moves\n",
    "action = env.action_space.sample()\n",
    "\n",
    "# Take that action in the environment and receive feedback\n",
    "next_state, reward, done, info = env.step(action)\n",
    "\n",
    "# Display the new board state after the move\n",
    "print(env.render())\n",
    "\n",
    "# Check if the game is over\n",
    "if done:\n",
    "    print(\"Game over!\")\n",
    "else:\n",
    "    print(\"Game continues.\")\n"
   ]
  }
 ],
 "metadata": {
  "kernelspec": {
   "display_name": "Python 3",
   "language": "python",
   "name": "python3"
  },
  "language_info": {
   "codemirror_mode": {
    "name": "ipython",
    "version": 3
   },
   "file_extension": ".py",
   "mimetype": "text/x-python",
   "name": "python",
   "nbconvert_exporter": "python",
   "pygments_lexer": "ipython3",
   "version": "3.10.6"
  }
 },
 "nbformat": 4,
 "nbformat_minor": 2
}
