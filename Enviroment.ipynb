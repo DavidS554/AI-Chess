{
 "cells": [
  {
   "cell_type": "code",
   "execution_count": 3,
   "metadata": {},
   "outputs": [
    {
     "name": "stdout",
     "output_type": "stream",
     "text": [
      "♜ ♞ ♝ ♛ ♚ ♝ ♞ ♜\n",
      "♟ ♟ ♟ ♟ ♟ ♟ ♟ ♟\n",
      "⭘ ⭘ ⭘ ⭘ ⭘ ⭘ ⭘ ⭘\n",
      "⭘ ⭘ ⭘ ⭘ ⭘ ⭘ ⭘ ⭘\n",
      "⭘ ⭘ ⭘ ⭘ ⭘ ⭘ ⭘ ⭘\n",
      "⭘ ⭘ ⭘ ⭘ ⭘ ⭘ ⭘ ⭘\n",
      "♙ ♙ ♙ ♙ ♙ ♙ ♙ ♙\n",
      "♖ ♘ ♗ ♕ ♔ ♗ ♘ ♖\n"
     ]
    },
    {
     "ename": "AttributeError",
     "evalue": "'NoneType' object has no attribute 'sample'",
     "output_type": "error",
     "traceback": [
      "\u001b[0;31m---------------------------------------------------------------------------\u001b[0m",
      "\u001b[0;31mAttributeError\u001b[0m                            Traceback (most recent call last)",
      "Cell \u001b[0;32mIn[3], line 14\u001b[0m\n\u001b[1;32m     11\u001b[0m \u001b[38;5;28mprint\u001b[39m(env\u001b[38;5;241m.\u001b[39mrender())\n\u001b[1;32m     13\u001b[0m \u001b[38;5;66;03m# Sample a random action (move) from the list of legal moves\u001b[39;00m\n\u001b[0;32m---> 14\u001b[0m action \u001b[38;5;241m=\u001b[39m \u001b[43menv\u001b[49m\u001b[38;5;241;43m.\u001b[39;49m\u001b[43maction_space\u001b[49m\u001b[38;5;241;43m.\u001b[39;49m\u001b[43msample\u001b[49m()\n\u001b[1;32m     16\u001b[0m \u001b[38;5;66;03m# Take that action in the environment and receive feedback\u001b[39;00m\n\u001b[1;32m     17\u001b[0m next_state, reward, done, info \u001b[38;5;241m=\u001b[39m env\u001b[38;5;241m.\u001b[39mstep(action)\n",
      "\u001b[0;31mAttributeError\u001b[0m: 'NoneType' object has no attribute 'sample'"
     ]
    }
   ],
   "source": [
    "import gym\n",
    "import gym_chess\n",
    "\n",
    "# Create the chess environment\n",
    "env = gym.make('Chess-v0')\n",
    "\n",
    "# Reset the environment (initialize the board)\n",
    "state = env.reset()\n",
    "\n",
    "# Display the initial board state\n",
    "print(env.render())\n",
    "\n",
    "# Sample a random action (move) from the list of legal moves\n",
    "action = env.action_space.sample()\n",
    "\n",
    "# Take that action in the environment and receive feedback\n",
    "next_state, reward, done, info = env.step(action)\n",
    "\n",
    "# Display the new board state after the move\n",
    "print(env.render())\n",
    "\n",
    "# Check if the game is over\n",
    "if done:\n",
    "    print(\"Game over!\")\n",
    "else:\n",
    "    print(\"Game continues.\")\n"
   ]
  },
  {
   "cell_type": "code",
   "execution_count": 2,
   "metadata": {},
   "outputs": [],
   "source": [
    "import torch\n",
    "import torch.nn as nn\n",
    "import torch.nn.functional as F\n",
    "\n",
    "# Actor Network\n",
    "# This network is responsible for deciding which action (chess move) to take given the current state.\n",
    "class Actor(nn.Module):\n",
    "    def __init__(self, input_size, output_size):\n",
    "        super(Actor, self).__init__()\n",
    "        \n",
    "        # Input layer to the first fully connected (FC) hidden layer with 128 neurons\n",
    "        self.fc1 = nn.Linear(input_size, 128)\n",
    "        \n",
    "        # Second FC layer with 128 neurons\n",
    "        self.fc2 = nn.Linear(128, 128)\n",
    "        \n",
    "        # Output layer which will output the action probabilities (softmax) over all possible actions\n",
    "        self.fc3 = nn.Linear(128, output_size)\n",
    "\n",
    "    def forward(self, x):\n",
    "        # Pass the input state through the first FC layer and apply ReLU activation\n",
    "        x = F.relu(self.fc1(x))\n",
    "        \n",
    "        # Pass the result through the second FC layer and apply ReLU activation\n",
    "        x = F.relu(self.fc2(x))\n",
    "        \n",
    "        # Output the action probabilities using softmax to ensure they sum to 1\n",
    "        return F.softmax(self.fc3(x), dim=-1)\n",
    "\n",
    "# Critic Network\n",
    "# This network evaluates the \"value\" of the current state (i.e., how good or bad the state is).\n",
    "class Critic(nn.Module):\n",
    "    def __init__(self, input_size):\n",
    "        super(Critic, self).__init__()\n",
    "        \n",
    "        # Input layer to the first fully connected (FC) hidden layer with 128 neurons\n",
    "        self.fc1 = nn.Linear(input_size, 128)\n",
    "        \n",
    "        # Second FC layer with 128 neurons\n",
    "        self.fc2 = nn.Linear(128, 128)\n",
    "        \n",
    "        # Output layer which outputs a single scalar value representing the value of the state\n",
    "        self.fc3 = nn.Linear(128, 1)\n",
    "\n",
    "    def forward(self, x):\n",
    "        # Pass the input state through the first FC layer and apply ReLU activation\n",
    "        x = F.relu(self.fc1(x))\n",
    "        \n",
    "        # Pass the result through the second FC layer and apply ReLU activation\n",
    "        x = F.relu(self.fc2(x))\n",
    "        \n",
    "        # Output the value of the state (no activation function here)\n",
    "        return self.fc3(x)\n"
   ]
  },
  {
   "cell_type": "code",
   "execution_count": 3,
   "metadata": {},
   "outputs": [
    {
     "name": "stdout",
     "output_type": "stream",
     "text": [
      "Action probabilities: tensor([[0.0002, 0.0002, 0.0002,  ..., 0.0002, 0.0002, 0.0002]],\n",
      "       grad_fn=<SoftmaxBackward0>)\n",
      "State value: tensor([[-0.0447]], grad_fn=<AddmmBackward0>)\n"
     ]
    }
   ],
   "source": [
    "# Initialize the actor and critic networks\n",
    "input_size = 768  # Example input size (board state as a flat vector)\n",
    "output_size = 4672  # Example output size (number of possible moves in chess)\n",
    "\n",
    "# Create an instance of the Actor and Critic\n",
    "actor_net = Actor(input_size=input_size, output_size=output_size)\n",
    "critic_net = Critic(input_size=input_size)\n",
    "\n",
    "# Test with a dummy state (e.g., a flat vector representing the chessboard)\n",
    "dummy_state = torch.rand(1, input_size)  # A batch of one random state\n",
    "\n",
    "# Pass the dummy state through the Actor to get the action probabilities\n",
    "action_probs = actor_net(dummy_state)\n",
    "print(f\"Action probabilities: {action_probs}\")\n",
    "\n",
    "# Pass the dummy state through the Critic to get the value of the state\n",
    "state_value = critic_net(dummy_state)\n",
    "print(f\"State value: {state_value}\")\n"
   ]
  }
 ],
 "metadata": {
  "kernelspec": {
   "display_name": "Python 3",
   "language": "python",
   "name": "python3"
  },
  "language_info": {
   "codemirror_mode": {
    "name": "ipython",
    "version": 3
   },
   "file_extension": ".py",
   "mimetype": "text/x-python",
   "name": "python",
   "nbconvert_exporter": "python",
   "pygments_lexer": "ipython3",
   "version": "3.10.6"
  }
 },
 "nbformat": 4,
 "nbformat_minor": 2
}
