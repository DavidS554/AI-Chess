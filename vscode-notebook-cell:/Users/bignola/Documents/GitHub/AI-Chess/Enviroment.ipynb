import gym
import gym_chess
import random
import numpy as np

def train_chess_ai(num_episodes=1000):
    env = gym.make('Chess-v0')
    
    # Initialize Actor and Critic networks
    actor = Actor(input_size=board_size, output_size=move_space)
    critic = Critic(input_size=board_size)
    
    for episode in range(num_episodes):
        state = env.reset()
        done = False
        total_reward = 0
        
        while not done:
            # Get action probabilities from Actor
            state_tensor = torch.FloatTensor(state)
            action_probs = actor(state_tensor)
            
            # Select action based on probabilities
            action = select_action(action_probs, env.legal_moves)
            
            # Get state evaluation from Critic
            state_value = critic(state_tensor)
            
            next_state, reward, done, info = env.step(action)
            total_reward += reward
            
            # Update networks here
            state = next_state
            
        print(f"Episode {episode + 1}, Total Reward: {total_reward}")

# Run training
train_chess_ai()
